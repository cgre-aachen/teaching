{
 "cells": [
  {
   "cell_type": "markdown",
   "metadata": {},
   "source": [
    "Interpolation overview\n",
    "\n",
    "1D:\n",
    "- Mean\n",
    "- Nearest Neighbour\n",
    "- Linear Interpolation\n",
    "\n",
    "2D:\n",
    "- Mean\n",
    "- Nearest Neighbor\n",
    "- Inverse distance\n"
   ]
  },
  {
   "cell_type": "code",
   "execution_count": 137,
   "metadata": {},
   "outputs": [],
   "source": [
    "# Imports\n",
    "from scipy.interpolate import interp1d\n",
    "from scipy.interpolate import griddata\n",
    "import matplotlib.pyplot as plt\n",
    "import numpy as np\n",
    "import ipywidgets as widgets"
   ]
  },
  {
   "cell_type": "code",
   "execution_count": 138,
   "metadata": {},
   "outputs": [],
   "source": [
    "# Necessary functions for calcualting the idw\n",
    "# https://stackoverflow.com/questions/3104781/inverse-distance-weighted-idw-interpolation-with-python\n",
    "\n",
    "def simple_idw(x, y, z, xi, yi):\n",
    "    \n",
    "    dist = distance_matrix(x, y, xi, yi)\n",
    "\n",
    "    # In IDW, weights are 1 / distance\n",
    "    weights = 1.0 / dist\n",
    "\n",
    "    # Make weights sum to one\n",
    "    weights /= weights.sum(axis=0)\n",
    "\n",
    "    # Multiply the weights for each interpolated point by all observed Z-values\n",
    "    zi = np.dot(weights.T, z)\n",
    "    return zi\n",
    "\n",
    "def distance_matrix(x0, y0, x1, y1):\n",
    "    obs = np.vstack((x0, y0)).T\n",
    "    interp = np.vstack((x1, y1)).T\n",
    "\n",
    "    # Make a distance matrix between pairwise observations\n",
    "    # Note: from <http://stackoverflow.com/questions/1871536>\n",
    "    # (Yay for ufuncs!)\n",
    "    d0 = np.subtract.outer(obs[:,0], interp[:,0])\n",
    "    d1 = np.subtract.outer(obs[:,1], interp[:,1])\n",
    "\n",
    "    return np.hypot(d0, d1)"
   ]
  },
  {
   "cell_type": "code",
   "execution_count": 156,
   "metadata": {},
   "outputs": [],
   "source": [
    "# Function for interactive 1D plotting\n",
    "def interactvie_1d_interpolation(x_mid=4,y_mid=6):\n",
    "    \n",
    "    x = np.array([2,x_mid,8])\n",
    "    y = np.array([2,y_mid,3])\n",
    "    \n",
    "    f0 = np.mean(y)\n",
    "    f1 = interp1d(x, y)\n",
    "    f2 = interp1d(x, y, kind='nearest')\n",
    "\n",
    "    xnew = np.linspace(2, 8, num=100, endpoint=True)\n",
    "    plt.figure(figsize=(8,5))\n",
    "    plt.plot(x, y, 'o', xnew, f1(xnew), '-', xnew, f2(xnew), '--', xnew, np.zeros((len(xnew)))+f0, ':')\n",
    "    plt.legend(['data', 'linear', 'nearest', 'average'], loc='best')\n",
    "    plt.ylim(0,8)\n",
    "    plt.xlim(1.5,8.5)\n",
    "    plt.show()"
   ]
  },
  {
   "cell_type": "code",
   "execution_count": 157,
   "metadata": {
    "scrolled": false
   },
   "outputs": [
    {
     "data": {
      "application/vnd.jupyter.widget-view+json": {
       "model_id": "9eb0be3039474a7ab137303d2ed5a292",
       "version_major": 2,
       "version_minor": 0
      },
      "text/plain": [
       "interactive(children=(FloatSlider(value=4.0, description='x_mid', max=7.9, min=2.1), FloatSlider(value=6.0, de…"
      ]
     },
     "metadata": {},
     "output_type": "display_data"
    }
   ],
   "source": [
    "# interactive 1D plotting\n",
    "widgets.interact(interactvie_1d_interpolation, x_mid=(2.1,7.9,0.1), y_mid=(0.2,7.8,0.1));"
   ]
  },
  {
   "cell_type": "code",
   "execution_count": 158,
   "metadata": {},
   "outputs": [],
   "source": [
    "# Function for interactive 2D plotting\n",
    "def interactvie_2d_interpolation(x_mid=5,y_mid=5):\n",
    "    \n",
    "    fig, axs = plt.subplots(1, 3, figsize=(20,10))\n",
    "    \n",
    "    grid_x, grid_y = np.mgrid[0:10:100j, 0:10:100j]\n",
    "    \n",
    "    x = np.array([2,x_mid,8,3])\n",
    "    y = np.array([2,y_mid,3,8])\n",
    "    points = np.array((x,y)).swapaxes(0,1)\n",
    "    values = np.array([1,2,3,4])\n",
    "    \n",
    "    grid_z0 = np.zeros((len(grid_x), len(grid_y)))+np.mean(values)\n",
    "    grid_z1 = griddata(points, values, (grid_x, grid_y), method='nearest')\n",
    "    grid_z2 = simple_idw(x=x, y=y, z=values, \n",
    "                         xi=grid_y.flatten(), yi=grid_x.flatten())\n",
    "    grid_z2 = grid_z2.reshape(100,100)\n",
    "\n",
    "    im0 = axs[0].imshow(grid_z0, extent=(0,10,0,10), origin='lower')\n",
    "    axs[0].scatter(points[:,0], points[:,1], c=\"black\", s=10)\n",
    "    axs[0].scatter(x_mid, y_mid, c=\"red\", s=15)\n",
    "    axs[0].set(title=\"Mean\", ylim=(0,10), xlim=(0,10))\n",
    "    plt.colorbar(im0, ax=axs[0], orientation='horizontal', shrink=1)\n",
    "    \n",
    "    im1 = axs[1].imshow(grid_z1.T, extent=(0,10,0,10), origin='lower')\n",
    "    axs[1].scatter(points[:,0], points[:,1], c=\"black\", s=10)\n",
    "    axs[1].scatter(x_mid, y_mid, c=\"red\", s=15)\n",
    "    axs[1].set(title=\"Nearest Neighbor\", ylim=(0,10), xlim=(0,10))\n",
    "    plt.colorbar(im1, ax=axs[1], orientation='horizontal', shrink=1)\n",
    "    \n",
    "    #Invere distance still missing\n",
    "    im2 = axs[2].imshow(grid_z2, extent=(0,10,0,10), origin='lower')\n",
    "    axs[2].scatter(points[:,0], points[:,1], c=\"black\", s=10)\n",
    "    axs[2].scatter(x_mid, y_mid, c=\"red\", s=15)\n",
    "    axs[2].set(title=\"Inverse distance\", ylim=(0,10), xlim=(0,10))\n",
    "    plt.colorbar(im2, ax=axs[2], orientation='horizontal', shrink=1)\n",
    "\n",
    "    \n",
    "    plt.show()"
   ]
  },
  {
   "cell_type": "code",
   "execution_count": 160,
   "metadata": {},
   "outputs": [
    {
     "data": {
      "application/vnd.jupyter.widget-view+json": {
       "model_id": "cf485ae7a70541d9b3cf3fd5fc11d2c7",
       "version_major": 2,
       "version_minor": 0
      },
      "text/plain": [
       "interactive(children=(FloatSlider(value=5.0, description='x_mid', max=9.0, min=1.0), FloatSlider(value=5.0, de…"
      ]
     },
     "metadata": {},
     "output_type": "display_data"
    }
   ],
   "source": [
    "# interactive 2D plotting\n",
    "widgets.interact(interactvie_2d_interpolation, x_mid=(1,9,0.1), y_mid=(1,9,0.1));"
   ]
  },
  {
   "cell_type": "code",
   "execution_count": null,
   "metadata": {},
   "outputs": [],
   "source": []
  }
 ],
 "metadata": {
  "kernelspec": {
   "display_name": "Python 3",
   "language": "python",
   "name": "python3"
  },
  "language_info": {
   "codemirror_mode": {
    "name": "ipython",
    "version": 3
   },
   "file_extension": ".py",
   "mimetype": "text/x-python",
   "name": "python",
   "nbconvert_exporter": "python",
   "pygments_lexer": "ipython3",
   "version": "3.7.7"
  }
 },
 "nbformat": 4,
 "nbformat_minor": 4
}
