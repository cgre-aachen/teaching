{
 "cells": [
  {
   "cell_type": "markdown",
   "metadata": {
    "slideshow": {
     "slide_type": "skip"
    }
   },
   "source": [
    "Interpolation overview\n",
    "\n",
    "1D:\n",
    "- Mean\n",
    "- Nearest Neighbour\n",
    "- Linear Interpolation\n",
    "- (higher degree polynomials)\n",
    "\n",
    "2D:\n",
    "- Mean\n",
    "- Nearest Neighbor\n",
    "- (Inverse distance)\n",
    "- (Kriging)\n"
   ]
  },
  {
   "cell_type": "code",
   "execution_count": 2,
   "metadata": {
    "slideshow": {
     "slide_type": "skip"
    }
   },
   "outputs": [],
   "source": [
    "from scipy.interpolate import interp1d\n",
    "from scipy.interpolate import griddata\n",
    "import matplotlib.pyplot as plt\n",
    "import numpy as np\n",
    "import ipywidgets as widgets"
   ]
  },
  {
   "cell_type": "code",
   "execution_count": 3,
   "metadata": {
    "slideshow": {
     "slide_type": "skip"
    }
   },
   "outputs": [
    {
     "data": {
      "text/plain": [
       "(0.0, 10.0)"
      ]
     },
     "execution_count": 3,
     "metadata": {},
     "output_type": "execute_result"
    },
    {
     "data": {
      "image/png": "[encoded data removed]",
      "text/plain": [
       "<Figure size 432x288 with 1 Axes>"
      ]
     },
     "metadata": {
      "needs_background": "light"
     },
     "output_type": "display_data"
    }
   ],
   "source": [
    "# Lets start with distribution from lecture (3 points in 1D)\n",
    "x = np.array([2,6,8])\n",
    "y = np.array([2,6,3])\n",
    "\n",
    "plt.scatter(x,y)\n",
    "plt.ylim(0,8)\n",
    "plt.xlim(0,10)"
   ]
  },
  {
   "cell_type": "code",
   "execution_count": 4,
   "metadata": {
    "slideshow": {
     "slide_type": "skip"
    }
   },
   "outputs": [],
   "source": [
    "def interactvie_1d_interpolation(x_mid=4,y_mid=6):\n",
    "    \n",
    "    x = np.array([2,x_mid,8])\n",
    "    y = np.array([2,y_mid,3])\n",
    "    \n",
    "    f0 = np.mean(y)\n",
    "    f1 = interp1d(x, y)\n",
    "    f2 = interp1d(x, y, kind='nearest')\n",
    "\n",
    "    xnew = np.linspace(2, 8, num=100, endpoint=True)\n",
    "\n",
    "    plt.figure(figsize=(10,8))\n",
    "    \n",
    "    plt.plot(x, y, 'o', xnew, f1(xnew), '-', xnew, f2(xnew), '--', xnew, np.zeros((len(xnew)))+f0, ':')\n",
    "    plt.legend(['data', 'linear', 'nearest', 'average'], loc='best')\n",
    "    plt.ylim(0,8)\n",
    "    plt.xlim(1.5,8.5)\n",
    "    plt.show()"
   ]
  },
  {
   "cell_type": "code",
   "execution_count": 5,
   "metadata": {
    "scrolled": false,
    "slideshow": {
     "slide_type": "slide"
    }
   },
   "outputs": [
    {
     "data": {
      "application/vnd.jupyter.widget-view+json": {
       "model_id": "1786777d6e454522a7f8d524a1506572",
       "version_major": 2,
       "version_minor": 0
      },
      "text/plain": [
       "interactive(children=(FloatSlider(value=4.0, description='x_mid', max=7.9, min=2.1), FloatSlider(value=6.0, de…"
      ]
     },
     "metadata": {},
     "output_type": "display_data"
    }
   ],
   "source": [
    "widgets.interact(interactvie_1d_interpolation, x_mid=(2.1,7.9,0.1), y_mid=(0.2,7.8,0.1));"
   ]
  },
  {
   "cell_type": "code",
   "execution_count": 6,
   "metadata": {
    "slideshow": {
     "slide_type": "skip"
    }
   },
   "outputs": [],
   "source": [
    "# 2d - inverse distance still missing\n",
    "\n",
    "def interactvie_2d_interpolation(x_mid=5,y_mid=5):\n",
    "    \n",
    "    fig, axs = plt.subplots(1, 2, figsize=(15,5))\n",
    "    \n",
    "    grid_x, grid_y = np.mgrid[0:10:1000j, 0:10:1000j]\n",
    "    \n",
    "    x = np.array([2,x_mid,8,3])\n",
    "    y = np.array([2,y_mid,3,8])\n",
    "    points = np.array((x,y)).swapaxes(0,1)\n",
    "    values = np.array([1,2,3,4])\n",
    "    \n",
    "    grid_z0 = np.zeros((len(grid_x), len(grid_y)))+np.mean(values)\n",
    "    grid_z1 = griddata(points, values, (grid_x, grid_y), method='nearest')\n",
    "    grid_z2 = griddata(points, values, (grid_x, grid_y), method='linear')\n",
    "\n",
    "    axs[0].imshow(grid_z0, extent=(0,10,0,10), origin='lower')\n",
    "    axs[0].scatter(points[:,0], points[:,1], c=\"black\", s=10)\n",
    "    axs[0].scatter(x_mid, y_mid, c=\"red\", s=15)\n",
    "    axs[0].set(title=\"Mean\", ylim=(0,10), xlim=(0,10))\n",
    "    \n",
    "    axs[1].imshow(grid_z1.T, extent=(0,10,0,10), origin='lower')\n",
    "    axs[1].scatter(points[:,0], points[:,1], c=\"black\", s=10)\n",
    "    axs[1].scatter(x_mid, y_mid, c=\"red\", s=15)\n",
    "    axs[1].set(title=\"Nearest Neighbor\", ylim=(0,10), xlim=(0,10))\n",
    "    \n",
    "    # Invere distance still missing\n",
    "    #c = axs[2].imshow(grid_z2.T, extent=(0,10,0,10), origin='lower')\n",
    "    #axs[2].scatter(points[:,0], points[:,1], c=\"black\", s=10)\n",
    "    #axs[2].set(title=\"Linear\", ylim=(0,10), xlim=(0,10))\n",
    "    #plt.colorbar()\n",
    "    \n",
    "    plt.show()"
   ]
  },
  {
   "cell_type": "code",
   "execution_count": 7,
   "metadata": {
    "slideshow": {
     "slide_type": "slide"
    }
   },
   "outputs": [
    {
     "data": {
      "application/vnd.jupyter.widget-view+json": {
       "model_id": "6e000501c04746bca0f0b9354fb2fea6",
       "version_major": 2,
       "version_minor": 0
      },
      "text/plain": [
       "interactive(children=(FloatSlider(value=5.0, description='x_mid', max=9.0, min=1.0), FloatSlider(value=5.0, de…"
      ]
     },
     "metadata": {},
     "output_type": "display_data"
    }
   ],
   "source": [
    "widgets.interact(interactvie_2d_interpolation, x_mid=(1,9,0.1), y_mid=(1,9,0.1));"
   ]
  },
  {
   "cell_type": "code",
   "execution_count": null,
   "metadata": {},
   "outputs": [],
   "source": []
  },
  {
   "cell_type": "code",
   "execution_count": null,
   "metadata": {},
   "outputs": [],
   "source": []
  }
 ],
 "metadata": {
  "celltoolbar": "Slideshow",
  "kernelspec": {
   "display_name": "Python 3",
   "language": "python",
   "name": "python3"
  },
  "language_info": {
   "codemirror_mode": {
    "name": "ipython",
    "version": 3
   },
   "file_extension": ".py",
   "mimetype": "text/x-python",
   "name": "python",
   "nbconvert_exporter": "python",
   "pygments_lexer": "ipython3",
   "version": "3.8.5"
  }
 },
 "nbformat": 4,
 "nbformat_minor": 4
}
